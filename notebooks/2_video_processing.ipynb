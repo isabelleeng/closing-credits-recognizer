{
 "cells": [
  {
   "cell_type": "markdown",
   "metadata": {},
   "source": [
    "## Processing the videos\n",
    "\n",
    "This notebook contains info on reading the video files preprocessing them and feed the frames to the trained network and returning the timestamp (in milliseconds) when credits start running and its frame ID."
   ]
  },
  {
   "cell_type": "code",
   "execution_count": 1,
   "metadata": {},
   "outputs": [],
   "source": [
    "# import sys\n",
    "# sys.path.append('./Lib/site-packages')\n",
    "# !{sys.executable} -m pip install -r requirements.txt"
   ]
  },
  {
   "cell_type": "code",
   "execution_count": 2,
   "metadata": {},
   "outputs": [],
   "source": [
    "import cv2\n",
    "import math\n",
    "import numpy as np\n",
    "import datetime\n",
    "from keras import models"
   ]
  },
  {
   "cell_type": "markdown",
   "metadata": {},
   "source": [
    "**Loading the ResNet50 model created in the previous notebook**"
   ]
  },
  {
   "cell_type": "code",
   "execution_count": 3,
   "metadata": {},
   "outputs": [],
   "source": [
    "model = models.load_model('models/closing_credits_Resnet50.h5')"
   ]
  },
  {
   "cell_type": "markdown",
   "metadata": {},
   "source": [
    "### Opening the video file and initializing the required variables\n",
    "Since the model has been trained on square images we want to only extract the center square from the frame. Therefore, _cutoff_ variable is defined to skip columns from left and right of the frame later on. To test this pipeline, an open source movie called _Sintel_ is used which is available for downloading at https://durian.blender.org/download/ (Specifically, 2048 x 872 (270 Mb, mp4, 5.1) version was used here."
   ]
  },
  {
   "cell_type": "code",
   "execution_count": 4,
   "metadata": {},
   "outputs": [],
   "source": [
    "metadata = [] # Contains the timestamp (in milliseconds) and frame ID of all frames fed into the model\n",
    "frames = [] # Contains the frames themselves\n",
    "\n",
    "video_file = '../data/videos/The_Tunnel-S01E02.mp4'\n",
    "capture = cv2.VideoCapture(video_file)\n",
    "\n",
    "width = capture.get(3)\n",
    "height = capture.get(4)\n",
    "cutoff = int((width - height)/2)\n",
    "frame_rate = capture.get(5)\n",
    "total_frames = capture.get(7)"
   ]
  },
  {
   "cell_type": "markdown",
   "metadata": {},
   "source": [
    "### Reading and formatting the frames\n",
    "\n",
    "Here we read the frames one by one and only store the frames from the last 25% of the video because credits wouldn't normally start any earlier of that point in series and movies. In addition we capture a square at the center of the frame and resize is to be fed into ResNet50."
   ]
  },
  {
   "cell_type": "code",
   "execution_count": 5,
   "metadata": {},
   "outputs": [],
   "source": [
    "while(capture.isOpened()):\n",
    "    frame_info = {\"time_progress\": capture.get(0),\n",
    "                  \"frame_id\": capture.get(1)}\n",
    "    ret, frame = capture.read()\n",
    "    if ret != True:\n",
    "        break\n",
    "    if frame_info['frame_id']/total_frames > 0.75 and frame_info['frame_id'] % math.floor(frame_rate/10) == 0:\n",
    "        metadata.append(frame_info)\n",
    "        frame = frame[:, cutoff:-cutoff, :]\n",
    "        frame = cv2.resize(frame, (224, 224))/255.0\n",
    "        frames.append(frame)\n",
    "\n",
    "frames = np.array(frames)\n",
    "capture.release()"
   ]
  },
  {
   "cell_type": "markdown",
   "metadata": {},
   "source": [
    "### Predicting the classes"
   ]
  },
  {
   "cell_type": "code",
   "execution_count": 7,
   "metadata": {},
   "outputs": [],
   "source": [
    "prediction_classes = (model.predict(frames) > 0.5).astype(\"int32\")\n",
    "estimates = np.array([x[0] for x in prediction_classes])"
   ]
  },
  {
   "cell_type": "markdown",
   "metadata": {},
   "source": [
    "### Extracting the frame ID where the credits start rolling\n",
    "\n",
    "The following function gets the predictions and runs a sliding window to check where we would have 100 (window_size) consecutive frames classified as credits and returns the beginning index."
   ]
  },
  {
   "cell_type": "code",
   "execution_count": 27,
   "metadata": {},
   "outputs": [],
   "source": [
    "def get_starting_index(estimates, window_size=100):\n",
    "    window = np.zeros((window_size,))\n",
    "    count = 0\n",
    "    for i in range(estimates.shape[0]-window_size):\n",
    "        if count == 10:\n",
    "            return index\n",
    "        if np.sum(estimates[i:(i+window_size)] == window)/window_size > 0.95:\n",
    "            if count == 0:\n",
    "                index = i\n",
    "            count += 1\n",
    "        else:\n",
    "            count = 0\n",
    "            index = None\n",
    "    return None"
   ]
  },
  {
   "cell_type": "markdown",
   "metadata": {},
   "source": [
    "### Extracting the metadata\n",
    "\n",
    "Finally, given the index we can return the timestamp in the movie where credits start rolling and its frame number."
   ]
  },
  {
   "cell_type": "code",
   "execution_count": 28,
   "metadata": {},
   "outputs": [
    {
     "data": {
      "text/plain": [
       "{'time_progress': 2737800.0, 'frame_id': 68446.0}"
      ]
     },
     "execution_count": 28,
     "metadata": {},
     "output_type": "execute_result"
    }
   ],
   "source": [
    "result = metadata[get_starting_index(estimates)]\n",
    "result"
   ]
  },
  {
   "cell_type": "markdown",
   "metadata": {},
   "source": [
    "Convert ms to datetime"
   ]
  },
  {
   "cell_type": "code",
   "execution_count": 84,
   "metadata": {},
   "outputs": [
    {
     "name": "stdout",
     "output_type": "stream",
     "text": [
      "0:45:37.800\n"
     ]
    }
   ],
   "source": [
    "formatted_time = str(datetime.timedelta(milliseconds=result['time_progress']))\n",
    "formatted_time_split = formatted_time.split(':')\n",
    "decimal = float(formatted_time_split[2])\n",
    "formatted_time = \"{h}:{m}:{s:.3f}\".format(h=formatted_time_split[0],m=formatted_time_split[1],s=decimal)\n",
    "print(formatted_time)\n"
   ]
  },
  {
   "cell_type": "markdown",
   "metadata": {},
   "source": [
    "### Saving the frame\n",
    "We are getting the frame where credits starts rolling by its frame ID, putting text with timestamp, and saving it as JPG."
   ]
  },
  {
   "cell_type": "code",
   "execution_count": 80,
   "metadata": {},
   "outputs": [],
   "source": [
    "capture = cv2.VideoCapture(video_file)\n",
    "capture.set(cv2.CAP_PROP_POS_FRAMES, int(result['frame_id']))\n",
    "ret, frame = capture.read()\n",
    "capture.release()"
   ]
  },
  {
   "cell_type": "code",
   "execution_count": null,
   "metadata": {},
   "outputs": [],
   "source": [
    "cv2.putText(frame, formatted_time, org=(100,100), fontFace=cv2.FONT_HERSHEY_DUPLEX, fontScale=2 , color=(255, 255, 0), thickness=2)\n",
    "cv2.imwrite(f\"result/{video_file[15:-4]}_frame_{int(result['frame_id'])}.jpg\", frame)"
   ]
  }
 ],
 "metadata": {
  "kernelspec": {
   "display_name": "Python 3.6.5 64-bit",
   "language": "python",
   "name": "python3"
  },
  "language_info": {
   "codemirror_mode": {
    "name": "ipython",
    "version": 3
   },
   "file_extension": ".py",
   "mimetype": "text/x-python",
   "name": "python",
   "nbconvert_exporter": "python",
   "pygments_lexer": "ipython3",
   "version": "3.6.5"
  },
  "vscode": {
   "interpreter": {
    "hash": "0238941942c372a93add45ab3296658c37e5e41742d749137840208421d6893e"
   }
  }
 },
 "nbformat": 4,
 "nbformat_minor": 2
}
